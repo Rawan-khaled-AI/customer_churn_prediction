{
 "cells": [
  {
   "cell_type": "markdown",
   "id": "e5619232",
   "metadata": {},
   "source": [
    "# 🧠 Customer Churn Prediction\n",
    "\n",
    "## 📌 Project Overview\n",
    "\n",
    "This project aims to predict whether a customer will churn (i.e., leave the service) based on their behavior, service usage, and demographic information. Customer churn prediction helps businesses take proactive actions to retain customers and reduce revenue loss.\n",
    "\n",
    "We use a classification model trained on labeled historical data to detect churn patterns and evaluate performance using real-world metrics like accuracy, recall, and precision.\n",
    "\n",
    "---\n",
    "\n",
    "## 📁 Dataset Information\n",
    "\n",
    "The dataset is divided into two files:\n",
    "\n",
    "- `customer_churn_train.csv`: Used for training and validating the model.\n",
    "- `customer_churn_test.csv`: Used for testing the model on unseen data.\n",
    "\n",
    "Both datasets contain the same features (columns).\n",
    "\n",
    "---\n",
    "\n",
    "## 📊 Columns Description\n",
    "\n",
    "| Column Name         | Description                                                                 |\n",
    "|---------------------|-----------------------------------------------------------------------------|\n",
    "| `customerID`        | Unique identifier for each customer.                                        |\n",
    "| `gender`            | Customer gender: Male or Female.                                            |\n",
    "| `SeniorCitizen`     | Whether the customer is a senior citizen (1 = Yes, 0 = No).                 |\n",
    "| `Partner`           | Whether the customer has a partner (Yes or No).                             |\n",
    "| `Dependents`        | Whether the customer has dependents (Yes or No).                            |\n",
    "| `tenure`            | Number of months the customer has stayed with the company.                  |\n",
    "| `PhoneService`      | Whether the customer has phone service (Yes or No).                         |\n",
    "| `MultipleLines`     | Whether the customer has multiple lines (Yes, No, No phone service).        |\n",
    "| `InternetService`   | Type of internet service: DSL, Fiber optic, or No.                          |\n",
    "| `OnlineSecurity`    | Whether the customer has online security (Yes, No, No internet service).    |\n",
    "| `OnlineBackup`      | Whether the customer has online backup.                                     |\n",
    "| `DeviceProtection`  | Whether the customer has device protection.                                 |\n",
    "| `TechSupport`       | Whether the customer has tech support.                                      |\n",
    "| `StreamingTV`       | Whether the customer has streaming TV.                                      |\n",
    "| `StreamingMovies`   | Whether the customer has streaming movies.                                  |\n",
    "| `Contract`          | Type of contract: Month-to-month, One year, Two year.                       |\n",
    "| `PaperlessBilling`  | Whether the customer uses paperless billing.                                |\n",
    "| `PaymentMethod`     | Customer’s payment method (Credit card, Bank transfer, etc.).               |\n",
    "| `MonthlyCharges`    | The amount charged to the customer monthly.                                 |\n",
    "| `TotalCharges`      | Total amount charged to the customer.                                       |\n",
    "| `Churn`             | Target variable: whether the customer churned (Yes or No).                  |\n",
    "\n",
    "---\n",
    "\n",
    "## 🧪 Project Goals\n",
    "\n",
    "- Clean and preprocess the data.\n",
    "- Handle missing values and categorical variables.\n",
    "- Explore and visualize churn patterns.\n",
    "- Train multiple classification models.\n",
    "- Evaluate and compare model performance using metrics:\n",
    "  - Accuracy\n",
    "  - Precision\n",
    "  - Recall\n",
    "  - F1-score\n",
    "- Choose the best model for deployment.\n",
    "----\n",
    "## 🚀 Final Output\n",
    "\n",
    "- Trained classification model to predict churn.\n",
    "- Performance evaluation on test data.\n",
    "- Streamlined project structure with full documentation.\n"
   ]
  },
  {
   "cell_type": "markdown",
   "id": "2c47859a",
   "metadata": {},
   "source": [
    "# Load Training and Testing Data\n",
    "\n",
    "We load both the training and testing datasets in this step.  \n",
    "These will be used respectively to train and evaluate our classification model.\n"
   ]
  },
  {
   "cell_type": "code",
   "execution_count": 21,
   "id": "1831cae7",
   "metadata": {},
   "outputs": [
    {
     "data": {
      "application/vnd.microsoft.datawrangler.viewer.v0+json": {
       "columns": [
        {
         "name": "index",
         "rawType": "int64",
         "type": "integer"
        },
        {
         "name": "CustomerID",
         "rawType": "float64",
         "type": "float"
        },
        {
         "name": "Age",
         "rawType": "float64",
         "type": "float"
        },
        {
         "name": "Gender",
         "rawType": "object",
         "type": "string"
        },
        {
         "name": "Tenure",
         "rawType": "float64",
         "type": "float"
        },
        {
         "name": "Usage Frequency",
         "rawType": "float64",
         "type": "float"
        },
        {
         "name": "Support Calls",
         "rawType": "float64",
         "type": "float"
        },
        {
         "name": "Payment Delay",
         "rawType": "float64",
         "type": "float"
        },
        {
         "name": "Subscription Type",
         "rawType": "object",
         "type": "string"
        },
        {
         "name": "Contract Length",
         "rawType": "object",
         "type": "string"
        },
        {
         "name": "Total Spend",
         "rawType": "float64",
         "type": "float"
        },
        {
         "name": "Last Interaction",
         "rawType": "float64",
         "type": "float"
        },
        {
         "name": "Churn",
         "rawType": "float64",
         "type": "float"
        }
       ],
       "ref": "8f2ac119-1367-4ec5-b411-c3d0075b9496",
       "rows": [
        [
         "0",
         "2.0",
         "30.0",
         "Female",
         "39.0",
         "14.0",
         "5.0",
         "18.0",
         "Standard",
         "Annual",
         "932.0",
         "17.0",
         "1.0"
        ],
        [
         "1",
         "3.0",
         "65.0",
         "Female",
         "49.0",
         "1.0",
         "10.0",
         "8.0",
         "Basic",
         "Monthly",
         "557.0",
         "6.0",
         "1.0"
        ],
        [
         "2",
         "4.0",
         "55.0",
         "Female",
         "14.0",
         "4.0",
         "6.0",
         "18.0",
         "Basic",
         "Quarterly",
         "185.0",
         "3.0",
         "1.0"
        ],
        [
         "3",
         "5.0",
         "58.0",
         "Male",
         "38.0",
         "21.0",
         "7.0",
         "7.0",
         "Standard",
         "Monthly",
         "396.0",
         "29.0",
         "1.0"
        ],
        [
         "4",
         "6.0",
         "23.0",
         "Male",
         "32.0",
         "20.0",
         "5.0",
         "8.0",
         "Basic",
         "Monthly",
         "617.0",
         "20.0",
         "1.0"
        ]
       ],
       "shape": {
        "columns": 12,
        "rows": 5
       }
      },
      "text/html": [
       "<div>\n",
       "<style scoped>\n",
       "    .dataframe tbody tr th:only-of-type {\n",
       "        vertical-align: middle;\n",
       "    }\n",
       "\n",
       "    .dataframe tbody tr th {\n",
       "        vertical-align: top;\n",
       "    }\n",
       "\n",
       "    .dataframe thead th {\n",
       "        text-align: right;\n",
       "    }\n",
       "</style>\n",
       "<table border=\"1\" class=\"dataframe\">\n",
       "  <thead>\n",
       "    <tr style=\"text-align: right;\">\n",
       "      <th></th>\n",
       "      <th>CustomerID</th>\n",
       "      <th>Age</th>\n",
       "      <th>Gender</th>\n",
       "      <th>Tenure</th>\n",
       "      <th>Usage Frequency</th>\n",
       "      <th>Support Calls</th>\n",
       "      <th>Payment Delay</th>\n",
       "      <th>Subscription Type</th>\n",
       "      <th>Contract Length</th>\n",
       "      <th>Total Spend</th>\n",
       "      <th>Last Interaction</th>\n",
       "      <th>Churn</th>\n",
       "    </tr>\n",
       "  </thead>\n",
       "  <tbody>\n",
       "    <tr>\n",
       "      <th>0</th>\n",
       "      <td>2.0</td>\n",
       "      <td>30.0</td>\n",
       "      <td>Female</td>\n",
       "      <td>39.0</td>\n",
       "      <td>14.0</td>\n",
       "      <td>5.0</td>\n",
       "      <td>18.0</td>\n",
       "      <td>Standard</td>\n",
       "      <td>Annual</td>\n",
       "      <td>932.0</td>\n",
       "      <td>17.0</td>\n",
       "      <td>1.0</td>\n",
       "    </tr>\n",
       "    <tr>\n",
       "      <th>1</th>\n",
       "      <td>3.0</td>\n",
       "      <td>65.0</td>\n",
       "      <td>Female</td>\n",
       "      <td>49.0</td>\n",
       "      <td>1.0</td>\n",
       "      <td>10.0</td>\n",
       "      <td>8.0</td>\n",
       "      <td>Basic</td>\n",
       "      <td>Monthly</td>\n",
       "      <td>557.0</td>\n",
       "      <td>6.0</td>\n",
       "      <td>1.0</td>\n",
       "    </tr>\n",
       "    <tr>\n",
       "      <th>2</th>\n",
       "      <td>4.0</td>\n",
       "      <td>55.0</td>\n",
       "      <td>Female</td>\n",
       "      <td>14.0</td>\n",
       "      <td>4.0</td>\n",
       "      <td>6.0</td>\n",
       "      <td>18.0</td>\n",
       "      <td>Basic</td>\n",
       "      <td>Quarterly</td>\n",
       "      <td>185.0</td>\n",
       "      <td>3.0</td>\n",
       "      <td>1.0</td>\n",
       "    </tr>\n",
       "    <tr>\n",
       "      <th>3</th>\n",
       "      <td>5.0</td>\n",
       "      <td>58.0</td>\n",
       "      <td>Male</td>\n",
       "      <td>38.0</td>\n",
       "      <td>21.0</td>\n",
       "      <td>7.0</td>\n",
       "      <td>7.0</td>\n",
       "      <td>Standard</td>\n",
       "      <td>Monthly</td>\n",
       "      <td>396.0</td>\n",
       "      <td>29.0</td>\n",
       "      <td>1.0</td>\n",
       "    </tr>\n",
       "    <tr>\n",
       "      <th>4</th>\n",
       "      <td>6.0</td>\n",
       "      <td>23.0</td>\n",
       "      <td>Male</td>\n",
       "      <td>32.0</td>\n",
       "      <td>20.0</td>\n",
       "      <td>5.0</td>\n",
       "      <td>8.0</td>\n",
       "      <td>Basic</td>\n",
       "      <td>Monthly</td>\n",
       "      <td>617.0</td>\n",
       "      <td>20.0</td>\n",
       "      <td>1.0</td>\n",
       "    </tr>\n",
       "  </tbody>\n",
       "</table>\n",
       "</div>"
      ],
      "text/plain": [
       "   CustomerID   Age  Gender  Tenure  Usage Frequency  Support Calls  \\\n",
       "0         2.0  30.0  Female    39.0             14.0            5.0   \n",
       "1         3.0  65.0  Female    49.0              1.0           10.0   \n",
       "2         4.0  55.0  Female    14.0              4.0            6.0   \n",
       "3         5.0  58.0    Male    38.0             21.0            7.0   \n",
       "4         6.0  23.0    Male    32.0             20.0            5.0   \n",
       "\n",
       "   Payment Delay Subscription Type Contract Length  Total Spend  \\\n",
       "0           18.0          Standard          Annual        932.0   \n",
       "1            8.0             Basic         Monthly        557.0   \n",
       "2           18.0             Basic       Quarterly        185.0   \n",
       "3            7.0          Standard         Monthly        396.0   \n",
       "4            8.0             Basic         Monthly        617.0   \n",
       "\n",
       "   Last Interaction  Churn  \n",
       "0              17.0    1.0  \n",
       "1               6.0    1.0  \n",
       "2               3.0    1.0  \n",
       "3              29.0    1.0  \n",
       "4              20.0    1.0  "
      ]
     },
     "execution_count": 21,
     "metadata": {},
     "output_type": "execute_result"
    }
   ],
   "source": [
    "import numpy as np\n",
    "import pandas as pd\n",
    "import seaborn as sns\n",
    "import matplotlib.pyplot as plt\n",
    "\n",
    "train_data = pd.read_csv('D:\\customer_churn_prediction\\customer_churn_dataset-training-master.csv')\n",
    "test_data = pd.read_csv('D:\\customer_churn_prediction\\customer_churn_dataset-testing-master.csv')\n",
    "df = pd.concat([train_data, test_data], axis=0).reset_index(drop=True)\n",
    "\n",
    "df.head()"
   ]
  },
  {
   "cell_type": "code",
   "execution_count": 22,
   "id": "d2cbfedc",
   "metadata": {},
   "outputs": [
    {
     "name": "stdout",
     "output_type": "stream",
     "text": [
      "<class 'pandas.core.frame.DataFrame'>\n",
      "RangeIndex: 505207 entries, 0 to 505206\n",
      "Data columns (total 12 columns):\n",
      " #   Column             Non-Null Count   Dtype  \n",
      "---  ------             --------------   -----  \n",
      " 0   CustomerID         505206 non-null  float64\n",
      " 1   Age                505206 non-null  float64\n",
      " 2   Gender             505206 non-null  object \n",
      " 3   Tenure             505206 non-null  float64\n",
      " 4   Usage Frequency    505206 non-null  float64\n",
      " 5   Support Calls      505206 non-null  float64\n",
      " 6   Payment Delay      505206 non-null  float64\n",
      " 7   Subscription Type  505206 non-null  object \n",
      " 8   Contract Length    505206 non-null  object \n",
      " 9   Total Spend        505206 non-null  float64\n",
      " 10  Last Interaction   505206 non-null  float64\n",
      " 11  Churn              505206 non-null  float64\n",
      "dtypes: float64(9), object(3)\n",
      "memory usage: 46.3+ MB\n"
     ]
    }
   ],
   "source": [
    "df.info()"
   ]
  },
  {
   "cell_type": "code",
   "execution_count": 23,
   "id": "d0ea1cce",
   "metadata": {},
   "outputs": [
    {
     "data": {
      "application/vnd.microsoft.datawrangler.viewer.v0+json": {
       "columns": [
        {
         "name": "index",
         "rawType": "object",
         "type": "string"
        },
        {
         "name": "CustomerID",
         "rawType": "float64",
         "type": "float"
        },
        {
         "name": "Age",
         "rawType": "float64",
         "type": "float"
        },
        {
         "name": "Tenure",
         "rawType": "float64",
         "type": "float"
        },
        {
         "name": "Usage Frequency",
         "rawType": "float64",
         "type": "float"
        },
        {
         "name": "Support Calls",
         "rawType": "float64",
         "type": "float"
        },
        {
         "name": "Payment Delay",
         "rawType": "float64",
         "type": "float"
        },
        {
         "name": "Total Spend",
         "rawType": "float64",
         "type": "float"
        },
        {
         "name": "Last Interaction",
         "rawType": "float64",
         "type": "float"
        },
        {
         "name": "Churn",
         "rawType": "float64",
         "type": "float"
        }
       ],
       "ref": "00526e33-9f90-4dc7-986d-5d8a5238d05f",
       "rows": [
        [
         "count",
         "505206.0",
         "505206.0",
         "505206.0",
         "505206.0",
         "505206.0",
         "505206.0",
         "505206.0",
         "505206.0",
         "505206.0"
        ],
        [
         "mean",
         "200779.45178204533",
         "39.70417215947554",
         "31.350435267989692",
         "15.714825239605231",
         "3.8333174982086513",
         "13.496842872016563",
         "620.0727658024647",
         "14.610580634434271",
         "0.5552032240313852"
        ],
        [
         "std",
         "137241.34309516585",
         "12.670576809410559",
         "17.237481520555548",
         "8.619322788544528",
         "3.1336025650032333",
         "8.451187137741963",
         "245.31925552139893",
         "8.608286448795635",
         "0.4969437522226913"
        ],
        [
         "min",
         "1.0",
         "18.0",
         "1.0",
         "1.0",
         "0.0",
         "0.0",
         "100.0",
         "1.0",
         "0.0"
        ],
        [
         "25%",
         "63827.25",
         "29.0",
         "16.0",
         "8.0",
         "1.0",
         "6.0",
         "446.0",
         "7.0",
         "0.0"
        ],
        [
         "50%",
         "193039.5",
         "40.0",
         "32.0",
         "16.0",
         "3.0",
         "13.0",
         "648.9",
         "14.0",
         "1.0"
        ],
        [
         "75%",
         "321645.75",
         "49.0",
         "46.0",
         "23.0",
         "6.0",
         "20.0",
         "824.0",
         "22.0",
         "1.0"
        ],
        [
         "max",
         "449999.0",
         "65.0",
         "60.0",
         "30.0",
         "10.0",
         "30.0",
         "1000.0",
         "30.0",
         "1.0"
        ]
       ],
       "shape": {
        "columns": 9,
        "rows": 8
       }
      },
      "text/html": [
       "<div>\n",
       "<style scoped>\n",
       "    .dataframe tbody tr th:only-of-type {\n",
       "        vertical-align: middle;\n",
       "    }\n",
       "\n",
       "    .dataframe tbody tr th {\n",
       "        vertical-align: top;\n",
       "    }\n",
       "\n",
       "    .dataframe thead th {\n",
       "        text-align: right;\n",
       "    }\n",
       "</style>\n",
       "<table border=\"1\" class=\"dataframe\">\n",
       "  <thead>\n",
       "    <tr style=\"text-align: right;\">\n",
       "      <th></th>\n",
       "      <th>CustomerID</th>\n",
       "      <th>Age</th>\n",
       "      <th>Tenure</th>\n",
       "      <th>Usage Frequency</th>\n",
       "      <th>Support Calls</th>\n",
       "      <th>Payment Delay</th>\n",
       "      <th>Total Spend</th>\n",
       "      <th>Last Interaction</th>\n",
       "      <th>Churn</th>\n",
       "    </tr>\n",
       "  </thead>\n",
       "  <tbody>\n",
       "    <tr>\n",
       "      <th>count</th>\n",
       "      <td>505206.000000</td>\n",
       "      <td>505206.000000</td>\n",
       "      <td>505206.000000</td>\n",
       "      <td>505206.000000</td>\n",
       "      <td>505206.000000</td>\n",
       "      <td>505206.000000</td>\n",
       "      <td>505206.000000</td>\n",
       "      <td>505206.000000</td>\n",
       "      <td>505206.000000</td>\n",
       "    </tr>\n",
       "    <tr>\n",
       "      <th>mean</th>\n",
       "      <td>200779.451782</td>\n",
       "      <td>39.704172</td>\n",
       "      <td>31.350435</td>\n",
       "      <td>15.714825</td>\n",
       "      <td>3.833317</td>\n",
       "      <td>13.496843</td>\n",
       "      <td>620.072766</td>\n",
       "      <td>14.610581</td>\n",
       "      <td>0.555203</td>\n",
       "    </tr>\n",
       "    <tr>\n",
       "      <th>std</th>\n",
       "      <td>137241.343095</td>\n",
       "      <td>12.670577</td>\n",
       "      <td>17.237482</td>\n",
       "      <td>8.619323</td>\n",
       "      <td>3.133603</td>\n",
       "      <td>8.451187</td>\n",
       "      <td>245.319256</td>\n",
       "      <td>8.608286</td>\n",
       "      <td>0.496944</td>\n",
       "    </tr>\n",
       "    <tr>\n",
       "      <th>min</th>\n",
       "      <td>1.000000</td>\n",
       "      <td>18.000000</td>\n",
       "      <td>1.000000</td>\n",
       "      <td>1.000000</td>\n",
       "      <td>0.000000</td>\n",
       "      <td>0.000000</td>\n",
       "      <td>100.000000</td>\n",
       "      <td>1.000000</td>\n",
       "      <td>0.000000</td>\n",
       "    </tr>\n",
       "    <tr>\n",
       "      <th>25%</th>\n",
       "      <td>63827.250000</td>\n",
       "      <td>29.000000</td>\n",
       "      <td>16.000000</td>\n",
       "      <td>8.000000</td>\n",
       "      <td>1.000000</td>\n",
       "      <td>6.000000</td>\n",
       "      <td>446.000000</td>\n",
       "      <td>7.000000</td>\n",
       "      <td>0.000000</td>\n",
       "    </tr>\n",
       "    <tr>\n",
       "      <th>50%</th>\n",
       "      <td>193039.500000</td>\n",
       "      <td>40.000000</td>\n",
       "      <td>32.000000</td>\n",
       "      <td>16.000000</td>\n",
       "      <td>3.000000</td>\n",
       "      <td>13.000000</td>\n",
       "      <td>648.900000</td>\n",
       "      <td>14.000000</td>\n",
       "      <td>1.000000</td>\n",
       "    </tr>\n",
       "    <tr>\n",
       "      <th>75%</th>\n",
       "      <td>321645.750000</td>\n",
       "      <td>49.000000</td>\n",
       "      <td>46.000000</td>\n",
       "      <td>23.000000</td>\n",
       "      <td>6.000000</td>\n",
       "      <td>20.000000</td>\n",
       "      <td>824.000000</td>\n",
       "      <td>22.000000</td>\n",
       "      <td>1.000000</td>\n",
       "    </tr>\n",
       "    <tr>\n",
       "      <th>max</th>\n",
       "      <td>449999.000000</td>\n",
       "      <td>65.000000</td>\n",
       "      <td>60.000000</td>\n",
       "      <td>30.000000</td>\n",
       "      <td>10.000000</td>\n",
       "      <td>30.000000</td>\n",
       "      <td>1000.000000</td>\n",
       "      <td>30.000000</td>\n",
       "      <td>1.000000</td>\n",
       "    </tr>\n",
       "  </tbody>\n",
       "</table>\n",
       "</div>"
      ],
      "text/plain": [
       "          CustomerID            Age         Tenure  Usage Frequency  \\\n",
       "count  505206.000000  505206.000000  505206.000000    505206.000000   \n",
       "mean   200779.451782      39.704172      31.350435        15.714825   \n",
       "std    137241.343095      12.670577      17.237482         8.619323   \n",
       "min         1.000000      18.000000       1.000000         1.000000   \n",
       "25%     63827.250000      29.000000      16.000000         8.000000   \n",
       "50%    193039.500000      40.000000      32.000000        16.000000   \n",
       "75%    321645.750000      49.000000      46.000000        23.000000   \n",
       "max    449999.000000      65.000000      60.000000        30.000000   \n",
       "\n",
       "       Support Calls  Payment Delay    Total Spend  Last Interaction  \\\n",
       "count  505206.000000  505206.000000  505206.000000     505206.000000   \n",
       "mean        3.833317      13.496843     620.072766         14.610581   \n",
       "std         3.133603       8.451187     245.319256          8.608286   \n",
       "min         0.000000       0.000000     100.000000          1.000000   \n",
       "25%         1.000000       6.000000     446.000000          7.000000   \n",
       "50%         3.000000      13.000000     648.900000         14.000000   \n",
       "75%         6.000000      20.000000     824.000000         22.000000   \n",
       "max        10.000000      30.000000    1000.000000         30.000000   \n",
       "\n",
       "               Churn  \n",
       "count  505206.000000  \n",
       "mean        0.555203  \n",
       "std         0.496944  \n",
       "min         0.000000  \n",
       "25%         0.000000  \n",
       "50%         1.000000  \n",
       "75%         1.000000  \n",
       "max         1.000000  "
      ]
     },
     "execution_count": 23,
     "metadata": {},
     "output_type": "execute_result"
    }
   ],
   "source": [
    "df.describe()"
   ]
  },
  {
   "cell_type": "markdown",
   "id": "fb6c0f33",
   "metadata": {},
   "source": [
    "## Data Cleaning\n",
    "\n",
    "Cleaning steps:\n",
    "- Drop missing rows (only 1 row was incomplete).\n",
    "- Remove `CustomerID` since it's just an identifier and not a useful feature.\n",
    "- Reset index after dropping.\n",
    "\n",
    "This ensures our data is clean and ready for analysis.\n"
   ]
  },
  {
   "cell_type": "code",
   "execution_count": 24,
   "id": "40b4f533",
   "metadata": {},
   "outputs": [],
   "source": [
    "df = df.dropna()\n",
    "\n",
    "df = df.drop(columns=['CustomerID'])\n",
    "\n",
    "df.reset_index(drop=True, inplace=True)\n"
   ]
  },
  {
   "cell_type": "markdown",
   "id": "517cedc6",
   "metadata": {},
   "source": [
    "## Feature Categorization\n",
    "\n",
    "We separate features into:\n",
    "- Categorical (object types): to be encoded later\n",
    "- Numerical: for distribution analysis and scaling\n",
    "\n",
    "This helps structure EDA and preprocessing steps correctly.\n"
   ]
  },
  {
   "cell_type": "code",
   "execution_count": null,
   "id": "6541cccc",
   "metadata": {},
   "outputs": [],
   "source": [
    "categorical_cols = df.select_dtypes(include='object').columns.tolist()\n",
    "\n",
    "numerical_cols = df.select_dtypes(include=['int64', 'float64']).columns.tolist()\n",
    "\n",
    "if 'Churn' in numerical_cols:\n",
    "    numerical_cols.remove('Churn')\n",
    "\n",
    "print(\"📁 Categorical Columns:\", categorical_cols)\n",
    "print(\"🔢 Numerical Columns:\", numerical_cols)\n"
   ]
  },
  {
   "cell_type": "markdown",
   "id": "cbe699dc",
   "metadata": {},
   "source": [
    "## Relationship Between Numerical Features and Churn\n",
    "\n",
    "In this step, we analyze how each numerical feature relates to customer churn. We use boxplots to compare the distribution of each feature between churned (Churn = 1) and retained customers (Churn = 0).\n",
    "\n",
    "###  Goal:\n",
    "To identify features that show a significant difference between the two groups, which may indicate their predictive power in churn modeling.\n"
   ]
  },
  {
   "cell_type": "code",
   "execution_count": 25,
   "id": "9c940956",
   "metadata": {},
   "outputs": [
    {
     "name": "stderr",
     "output_type": "stream",
     "text": [
      "C:\\Users\\RAWAN\\AppData\\Local\\Temp\\ipykernel_19396\\3584896181.py:5: FutureWarning: \n",
      "\n",
      "Passing `palette` without assigning `hue` is deprecated and will be removed in v0.14.0. Assign the `x` variable to `hue` and set `legend=False` for the same effect.\n",
      "\n",
      "  sns.boxplot(x='Churn', y='Age', data=df, palette='Set2')\n"
     ]
    },
    {
     "data": {
      "image/png": "[encoded data removed]",
      "text/plain": [
       "<Figure size 600x400 with 1 Axes>"
      ]
     },
     "metadata": {},
     "output_type": "display_data"
    }
   ],
   "source": [
    "import seaborn as sns\n",
    "import matplotlib.pyplot as plt\n",
    "\n",
    "plt.figure(figsize=(6, 4))\n",
    "sns.boxplot(x='Churn', y='Age', data=df, palette='Set2')\n",
    "plt.title(\"Customer Age vs. Churn\")\n",
    "plt.xlabel(\"Churn\")\n",
    "plt.ylabel(\"Age\")\n",
    "plt.show()\n"
   ]
  },
  {
   "cell_type": "markdown",
   "id": "1e906007",
   "metadata": {},
   "source": [
    "### Column Analysis: Age\n",
    "\n",
    "- Based on the boxplot analysis between Age and Churn, we observed that:\n",
    "\n",
    "  - Customers who **churned** (`Churn = 1`) tend to be **older** than those who stayed.\n",
    "  - This may suggest that older customers are:\n",
    "    - Less engaged with the service.\n",
    "    - Possibly less satisfied with the offering.\n",
    "    - Or more likely to cancel due to changing preferences.\n",
    "\n",
    "**Conclusion:** Age appears to be an important factor, with older customers showing a higher tendency to churn.\n"
   ]
  },
  {
   "cell_type": "code",
   "execution_count": 26,
   "id": "d0860464",
   "metadata": {},
   "outputs": [
    {
     "name": "stderr",
     "output_type": "stream",
     "text": [
      "C:\\Users\\RAWAN\\AppData\\Local\\Temp\\ipykernel_19396\\766213019.py:2: FutureWarning: \n",
      "\n",
      "Passing `palette` without assigning `hue` is deprecated and will be removed in v0.14.0. Assign the `x` variable to `hue` and set `legend=False` for the same effect.\n",
      "\n",
      "  sns.boxplot(x='Churn', y='Tenure', data=df, palette='Set2')\n"
     ]
    },
    {
     "data": {
      "image/png": "[encoded data removed]",
      "text/plain": [
       "<Figure size 1000x500 with 1 Axes>"
      ]
     },
     "metadata": {},
     "output_type": "display_data"
    }
   ],
   "source": [
    "plt.figure(figsize=(10, 5))\n",
    "sns.boxplot(x='Churn', y='Tenure', data=df, palette='Set2')\n",
    "plt.title(\"Tenure vs Churn\")\n",
    "plt.xlabel(\"Churn\")\n",
    "plt.ylabel(\"Tenure (Months)\")\n",
    "plt.show()"
   ]
  },
  {
   "cell_type": "markdown",
   "id": "a2278aba",
   "metadata": {},
   "source": [
    "### Column Analysis: Tenure\n",
    "The boxplot shows that the tenure (i.e., how long a customer has been subscribed) is relatively similar for both churned and non-churned customers.\n",
    "There is no significant difference between the two groups, which indicates that tenure alone may not be a strong predictor of customer churn.\n",
    "\n"
   ]
  },
  {
   "cell_type": "code",
   "execution_count": 27,
   "id": "4934c21f",
   "metadata": {},
   "outputs": [
    {
     "name": "stderr",
     "output_type": "stream",
     "text": [
      "C:\\Users\\RAWAN\\AppData\\Local\\Temp\\ipykernel_19396\\1992466238.py:2: FutureWarning: \n",
      "\n",
      "Passing `palette` without assigning `hue` is deprecated and will be removed in v0.14.0. Assign the `x` variable to `hue` and set `legend=False` for the same effect.\n",
      "\n",
      "  sns.boxplot(x='Churn', y='Usage Frequency', data=df, palette='Set2')\n"
     ]
    },
    {
     "data": {
      "image/png": "[encoded data removed]",
      "text/plain": [
       "<Figure size 600x400 with 1 Axes>"
      ]
     },
     "metadata": {},
     "output_type": "display_data"
    }
   ],
   "source": [
    "plt.figure(figsize=(6, 4))\n",
    "sns.boxplot(x='Churn', y='Usage Frequency', data=df, palette='Set2')\n",
    "plt.title('Usage Frequency vs Churn')\n",
    "plt.xlabel('Churn')\n",
    "plt.ylabel('Usage Frequency')\n",
    "plt.grid(True)\n",
    "plt.show()\n"
   ]
  },
  {
   "cell_type": "markdown",
   "id": "f32889a3",
   "metadata": {},
   "source": [
    "### Column Analysis:Usage Frequency \n",
    "The boxplot shows a slightly higher median Usage Frequency among customers who churned (Churn = 1) compared to those who did not churn (Churn = 0). However, the difference is small, indicating that usage frequency alone may not be a strong predictor of churn.\n",
    "\n"
   ]
  },
  {
   "cell_type": "code",
   "execution_count": 28,
   "id": "f6693931",
   "metadata": {},
   "outputs": [
    {
     "name": "stderr",
     "output_type": "stream",
     "text": [
      "C:\\Users\\RAWAN\\AppData\\Local\\Temp\\ipykernel_19396\\3561685901.py:1: FutureWarning: \n",
      "\n",
      "Passing `palette` without assigning `hue` is deprecated and will be removed in v0.14.0. Assign the `x` variable to `hue` and set `legend=False` for the same effect.\n",
      "\n",
      "  sns.boxplot(x='Churn', y='Support Calls', data=df, palette='Set2')\n"
     ]
    },
    {
     "data": {
      "image/png": "[encoded data removed]",
      "text/plain": [
       "<Figure size 640x480 with 1 Axes>"
      ]
     },
     "metadata": {},
     "output_type": "display_data"
    }
   ],
   "source": [
    "sns.boxplot(x='Churn', y='Support Calls', data=df, palette='Set2')\n",
    "plt.title('Support Calls vs Churn')\n",
    "plt.show()\n"
   ]
  },
  {
   "cell_type": "markdown",
   "id": "2dad6c3a",
   "metadata": {},
   "source": [
    "### Column Analysis: support calls\n",
    "\n",
    "Customers who churned (Churn = 1) tend to have a higher number of support calls.\n",
    "\n",
    "The median support calls for churned users is around 5, compared to around 1 for non-churned users.\n",
    "\n",
    "This indicates that frequent issues or dissatisfaction (reflected by support calls) could be a major driver of churn.\n",
    "\n",
    "Insight: High support call frequency might be a warning sign. This feature could be a strong predictor for churn."
   ]
  },
  {
   "cell_type": "code",
   "execution_count": 29,
   "id": "9c1478d7",
   "metadata": {},
   "outputs": [
    {
     "name": "stderr",
     "output_type": "stream",
     "text": [
      "C:\\Users\\RAWAN\\AppData\\Local\\Temp\\ipykernel_19396\\178321543.py:2: FutureWarning: \n",
      "\n",
      "Passing `palette` without assigning `hue` is deprecated and will be removed in v0.14.0. Assign the `x` variable to `hue` and set `legend=False` for the same effect.\n",
      "\n",
      "  sns.boxplot(x='Churn', y='Payment Delay', data=df, palette='Set2')\n"
     ]
    },
    {
     "data": {
      "image/png": "[encoded data removed]",
      "text/plain": [
       "<Figure size 600x500 with 1 Axes>"
      ]
     },
     "metadata": {},
     "output_type": "display_data"
    }
   ],
   "source": [
    "plt.figure(figsize=(6, 5))\n",
    "sns.boxplot(x='Churn', y='Payment Delay', data=df, palette='Set2')\n",
    "plt.title('Payment Delay vs Churn')\n",
    "plt.show()\n"
   ]
  },
  {
   "cell_type": "markdown",
   "id": "69d1e25b",
   "metadata": {},
   "source": [
    "### Column Analysis: Payment Delay\n",
    "\n",
    "Customers who churned (Churn = 1) tend to have higher payment delays.\n",
    "\n",
    "The median delay for churned customers is around 15 days, compared to 10 days for retained customers.\n",
    "#### Interpretation:\n",
    "Higher delays in payment could indicate dissatisfaction or financial difficulties, which may lead to customer churn.\n",
    "\n"
   ]
  },
  {
   "cell_type": "code",
   "execution_count": 30,
   "id": "9af398fd",
   "metadata": {},
   "outputs": [
    {
     "data": {
      "image/png": "[encoded data removed]",
      "text/plain": [
       "<Figure size 600x500 with 1 Axes>"
      ]
     },
     "metadata": {},
     "output_type": "display_data"
    }
   ],
   "source": [
    "plt.figure(figsize=(6,5))\n",
    "sns.boxplot(data=df , x='Churn', y='Total Spend')\n",
    "plt.title('Total Spend vs Churn')\n",
    "plt.show()\n"
   ]
  },
  {
   "cell_type": "markdown",
   "id": "c45c825f",
   "metadata": {},
   "source": [
    "### Column Analysis:Total Spend\n",
    "Customers who did not churn (0) tend to have a higher total spend compared to those who churned (1).\n",
    "\n",
    "The median spend of non-churned customers is around 750–800.\n",
    "\n",
    "For churned customers, the median spend drops to around 500–550.\n",
    "\n",
    "The spread of spending for churned customers is much wider, indicating variability in behavior.\n",
    "\n",
    "#### Insight: Lower total spending is associated with a higher likelihood of churn. This could mean that customers who are less financially invested in the service are more likely to leave."
   ]
  },
  {
   "cell_type": "code",
   "execution_count": 31,
   "id": "ab589c6a",
   "metadata": {},
   "outputs": [
    {
     "name": "stderr",
     "output_type": "stream",
     "text": [
      "C:\\Users\\RAWAN\\AppData\\Local\\Temp\\ipykernel_19396\\659999045.py:2: FutureWarning: \n",
      "\n",
      "Passing `palette` without assigning `hue` is deprecated and will be removed in v0.14.0. Assign the `x` variable to `hue` and set `legend=False` for the same effect.\n",
      "\n",
      "  sns.boxplot(x='Churn', y='Last Interaction', data=df, palette='Set2')\n"
     ]
    },
    {
     "data": {
      "image/png": "[encoded data removed]",
      "text/plain": [
       "<Figure size 600x400 with 1 Axes>"
      ]
     },
     "metadata": {},
     "output_type": "display_data"
    }
   ],
   "source": [
    "plt.figure(figsize=(6, 4))\n",
    "sns.boxplot(x='Churn', y='Last Interaction', data=df, palette='Set2')\n",
    "plt.title('Boxplot of Last Interaction vs Churn')\n",
    "plt.xlabel('Churn')\n",
    "plt.ylabel('Last Interaction')\n",
    "plt.show()\n"
   ]
  },
  {
   "cell_type": "markdown",
   "id": "80c3b83e",
   "metadata": {},
   "source": [
    "##  Analysis of 'Last Interaction' Column vs Churn\n",
    "\n",
    "###  Observations:\n",
    "- Customers who **churned** (`Churn = 1`) had their last interaction typically between **10 and 25 days ago**.\n",
    "- Customers who **did not churn** (`Churn = 0`) had more recent interactions, usually between **5 and 20 days**.\n",
    "- **Conclusion:** Longer periods since last interaction may indicate a higher likelihood of customer churn."
   ]
  },
  {
   "cell_type": "code",
   "execution_count": 32,
   "id": "26e4c34c",
   "metadata": {},
   "outputs": [
    {
     "data": {
      "image/png": "[encoded data removed]",
      "text/plain": [
       "<Figure size 640x480 with 1 Axes>"
      ]
     },
     "metadata": {},
     "output_type": "display_data"
    }
   ],
   "source": [
    "sns.countplot(x='Gender', hue='Churn', data=df, palette='Set2')\n",
    "plt.title('Churn Distribution by Gender')\n",
    "plt.show()"
   ]
  },
  {
   "cell_type": "markdown",
   "id": "c3ea84b8",
   "metadata": {},
   "source": [
    "### Column Analysis: Gender\n",
    "From the visualization, we observe that males and females churn at nearly the same rate, indicating no significant difference in churn behavior based on gender.\n",
    "However, there are almost twice as many male customers as female customers, suggesting a gender imbalance in the customer base."
   ]
  },
  {
   "cell_type": "code",
   "execution_count": 33,
   "id": "e57ec704",
   "metadata": {},
   "outputs": [
    {
     "data": {
      "image/png": "[encoded data removed]",
      "text/plain": [
       "<Figure size 800x500 with 1 Axes>"
      ]
     },
     "metadata": {},
     "output_type": "display_data"
    }
   ],
   "source": [
    "plt.figure(figsize=(8, 5))\n",
    "sns.countplot(data=df, x='Subscription Type', hue='Churn', palette='Set2')\n",
    "plt.title('Churn Rate by Subscription Type')\n",
    "plt.xlabel('Subscription Type')\n",
    "plt.ylabel('Count')\n",
    "plt.legend(title='Churn')\n",
    "plt.xticks(rotation=15)\n",
    "plt.tight_layout()\n",
    "plt.show()\n"
   ]
  },
  {
   "cell_type": "markdown",
   "id": "86d987bb",
   "metadata": {},
   "source": [
    "### Column Analysis: subscription type\n",
    "We analyzed the relationship between Subscription Type and Customer Churn using a count plot. The observations are:\n",
    "\n",
    "Among customers who left (Churn = 1), the distribution across subscription types (Basic, Standard, Premium) is roughly equal.\n",
    "\n",
    "However, among customers who did not leave (Churn = 0), those with a Basic subscription were slightly fewer than those with Standard or Premium subscriptions.\n",
    "\n",
    "This suggests that customers with a Basic plan may be slightly more likely to churn, but the difference is not significant. Overall, Subscription Type has a weak effect on churn in this dataset.\n",
    "\n"
   ]
  },
  {
   "cell_type": "code",
   "execution_count": 34,
   "id": "bbdfb2eb",
   "metadata": {},
   "outputs": [
    {
     "data": {
      "image/png": "[encoded data removed]",
      "text/plain": [
       "<Figure size 600x400 with 1 Axes>"
      ]
     },
     "metadata": {},
     "output_type": "display_data"
    }
   ],
   "source": [
    "plt.figure(figsize=(6, 4))\n",
    "sns.countplot(data=df, x='Contract Length', hue='Churn', palette='Set2')\n",
    "plt.title('Churn vs Contract Length')\n",
    "plt.xlabel('Contract Length (months)')\n",
    "plt.ylabel('Count')\n",
    "plt.legend(title='Churn')\n",
    "plt.tight_layout()\n",
    "plt.show()\n"
   ]
  },
  {
   "cell_type": "markdown",
   "id": "0d8d3235",
   "metadata": {},
   "source": [
    "### Column Analysis: contract length\n",
    "Customers with shorter contracts (e.g., 1 month) are more likely to churn compared to those with longer contracts.\n",
    "\n",
    "The churn rate decreases as the contract length increases.\n",
    "\n",
    "This suggests that long-term commitment helps retain customers.\n",
    "\n"
   ]
  },
  {
   "cell_type": "code",
   "execution_count": 35,
   "id": "4d64ed40",
   "metadata": {},
   "outputs": [
    {
     "data": {
      "image/png": "[encoded data removed]",
      "text/plain": [
       "<Figure size 1000x800 with 2 Axes>"
      ]
     },
     "metadata": {},
     "output_type": "display_data"
    }
   ],
   "source": [
    "corr_matrix = df[numerical_cols].corr()\n",
    "plt.figure(figsize=(10, 8))\n",
    "sns.heatmap(corr_matrix, annot=True, cmap='coolwarm', fmt=\".2f\", linewidths=0.5)\n",
    "plt.title('Correlation Matrix of Numerical Features')\n",
    "plt.show()"
   ]
  },
  {
   "cell_type": "markdown",
   "id": "14bea80b",
   "metadata": {},
   "source": [
    "\n",
    "The correlation matrix shows that all numerical features have weak correlations with each other.\n",
    "No pair of features has a strong enough relationship (e.g., > 0.8 or < -0.8) to suggest redundancy.\n",
    "Therefore, all features will be retained for the modeling phase, as each might bring unique value.\n",
    "\n"
   ]
  },
  {
   "cell_type": "markdown",
   "id": "2c1c2afb",
   "metadata": {},
   "source": [
    " Data Preprocessing: Scaling & Encoding\n",
    "1. Feature Scaling using MinMaxScaler\n",
    "To ensure that all numerical features contribute equally to the machine learning model, we applied Min-Max Scaling, which scales each feature to a range between 0 and 1.\n",
    "2. Since machine learning models work with numerical values, we needed to convert categorical variables into a numerical format."
   ]
  },
  {
   "cell_type": "code",
   "execution_count": 36,
   "id": "cdf32143",
   "metadata": {},
   "outputs": [
    {
     "data": {
      "text/plain": [
       "['feature_columns.pkl']"
      ]
     },
     "execution_count": 36,
     "metadata": {},
     "output_type": "execute_result"
    }
   ],
   "source": [
    "from sklearn.preprocessing import LabelEncoder\n",
    "import joblib\n",
    "\n",
    "data_encoded = df\n",
    "\n",
    "gender_encoder = LabelEncoder()\n",
    "contract_encoder = LabelEncoder()\n",
    "\n",
    "data_encoded['Gender'] = gender_encoder.fit_transform(data_encoded['Gender'])\n",
    "data_encoded['Contract Length'] = contract_encoder.fit_transform(data_encoded['Contract Length'])\n",
    "\n",
    "data_encoded = pd.get_dummies(data_encoded, columns=['Subscription Type'], drop_first=True)\n",
    "\n",
    "joblib.dump(gender_encoder, \"gender_encoder.pkl\")\n",
    "joblib.dump(contract_encoder, \"contract_encoder.pkl\")\n",
    "joblib.dump(df.columns.tolist(), \"feature_columns.pkl\")\n",
    "\n",
    "\n"
   ]
  },
  {
   "cell_type": "code",
   "execution_count": 37,
   "id": "7a613272",
   "metadata": {},
   "outputs": [
    {
     "data": {
      "application/vnd.microsoft.datawrangler.viewer.v0+json": {
       "columns": [
        {
         "name": "index",
         "rawType": "int64",
         "type": "integer"
        },
        {
         "name": "Age",
         "rawType": "float64",
         "type": "float"
        },
        {
         "name": "Gender",
         "rawType": "int32",
         "type": "integer"
        },
        {
         "name": "Tenure",
         "rawType": "float64",
         "type": "float"
        },
        {
         "name": "Usage Frequency",
         "rawType": "float64",
         "type": "float"
        },
        {
         "name": "Support Calls",
         "rawType": "float64",
         "type": "float"
        },
        {
         "name": "Payment Delay",
         "rawType": "float64",
         "type": "float"
        },
        {
         "name": "Contract Length",
         "rawType": "int32",
         "type": "integer"
        },
        {
         "name": "Total Spend",
         "rawType": "float64",
         "type": "float"
        },
        {
         "name": "Last Interaction",
         "rawType": "float64",
         "type": "float"
        },
        {
         "name": "Churn",
         "rawType": "float64",
         "type": "float"
        },
        {
         "name": "Subscription Type_Premium",
         "rawType": "bool",
         "type": "boolean"
        },
        {
         "name": "Subscription Type_Standard",
         "rawType": "bool",
         "type": "boolean"
        }
       ],
       "ref": "fa6b19d8-e1ff-4ccb-9ed2-0c572eb0ab61",
       "rows": [
        [
         "0",
         "0.25531914893617025",
         "0",
         "0.6440677966101696",
         "0.44827586206896547",
         "0.5",
         "0.6",
         "0",
         "0.9244444444444444",
         "0.5517241379310345",
         "1.0",
         "False",
         "True"
        ],
        [
         "1",
         "0.9999999999999999",
         "0",
         "0.8135593220338984",
         "0.0",
         "1.0",
         "0.26666666666666666",
         "1",
         "0.5077777777777779",
         "0.1724137931034483",
         "1.0",
         "False",
         "False"
        ],
        [
         "2",
         "0.7872340425531915",
         "0",
         "0.22033898305084745",
         "0.10344827586206896",
         "0.6000000000000001",
         "0.6",
         "2",
         "0.09444444444444444",
         "0.06896551724137931",
         "1.0",
         "False",
         "False"
        ],
        [
         "3",
         "0.851063829787234",
         "1",
         "0.6271186440677966",
         "0.6896551724137931",
         "0.7000000000000001",
         "0.23333333333333334",
         "1",
         "0.3288888888888889",
         "0.9655172413793104",
         "1.0",
         "False",
         "True"
        ],
        [
         "4",
         "0.10638297872340424",
         "1",
         "0.5254237288135594",
         "0.6551724137931035",
         "0.5",
         "0.26666666666666666",
         "1",
         "0.5744444444444445",
         "0.6551724137931035",
         "1.0",
         "False",
         "False"
        ]
       ],
       "shape": {
        "columns": 12,
        "rows": 5
       }
      },
      "text/html": [
       "<div>\n",
       "<style scoped>\n",
       "    .dataframe tbody tr th:only-of-type {\n",
       "        vertical-align: middle;\n",
       "    }\n",
       "\n",
       "    .dataframe tbody tr th {\n",
       "        vertical-align: top;\n",
       "    }\n",
       "\n",
       "    .dataframe thead th {\n",
       "        text-align: right;\n",
       "    }\n",
       "</style>\n",
       "<table border=\"1\" class=\"dataframe\">\n",
       "  <thead>\n",
       "    <tr style=\"text-align: right;\">\n",
       "      <th></th>\n",
       "      <th>Age</th>\n",
       "      <th>Gender</th>\n",
       "      <th>Tenure</th>\n",
       "      <th>Usage Frequency</th>\n",
       "      <th>Support Calls</th>\n",
       "      <th>Payment Delay</th>\n",
       "      <th>Contract Length</th>\n",
       "      <th>Total Spend</th>\n",
       "      <th>Last Interaction</th>\n",
       "      <th>Churn</th>\n",
       "      <th>Subscription Type_Premium</th>\n",
       "      <th>Subscription Type_Standard</th>\n",
       "    </tr>\n",
       "  </thead>\n",
       "  <tbody>\n",
       "    <tr>\n",
       "      <th>0</th>\n",
       "      <td>0.255319</td>\n",
       "      <td>0</td>\n",
       "      <td>0.644068</td>\n",
       "      <td>0.448276</td>\n",
       "      <td>0.5</td>\n",
       "      <td>0.600000</td>\n",
       "      <td>0</td>\n",
       "      <td>0.924444</td>\n",
       "      <td>0.551724</td>\n",
       "      <td>1.0</td>\n",
       "      <td>False</td>\n",
       "      <td>True</td>\n",
       "    </tr>\n",
       "    <tr>\n",
       "      <th>1</th>\n",
       "      <td>1.000000</td>\n",
       "      <td>0</td>\n",
       "      <td>0.813559</td>\n",
       "      <td>0.000000</td>\n",
       "      <td>1.0</td>\n",
       "      <td>0.266667</td>\n",
       "      <td>1</td>\n",
       "      <td>0.507778</td>\n",
       "      <td>0.172414</td>\n",
       "      <td>1.0</td>\n",
       "      <td>False</td>\n",
       "      <td>False</td>\n",
       "    </tr>\n",
       "    <tr>\n",
       "      <th>2</th>\n",
       "      <td>0.787234</td>\n",
       "      <td>0</td>\n",
       "      <td>0.220339</td>\n",
       "      <td>0.103448</td>\n",
       "      <td>0.6</td>\n",
       "      <td>0.600000</td>\n",
       "      <td>2</td>\n",
       "      <td>0.094444</td>\n",
       "      <td>0.068966</td>\n",
       "      <td>1.0</td>\n",
       "      <td>False</td>\n",
       "      <td>False</td>\n",
       "    </tr>\n",
       "    <tr>\n",
       "      <th>3</th>\n",
       "      <td>0.851064</td>\n",
       "      <td>1</td>\n",
       "      <td>0.627119</td>\n",
       "      <td>0.689655</td>\n",
       "      <td>0.7</td>\n",
       "      <td>0.233333</td>\n",
       "      <td>1</td>\n",
       "      <td>0.328889</td>\n",
       "      <td>0.965517</td>\n",
       "      <td>1.0</td>\n",
       "      <td>False</td>\n",
       "      <td>True</td>\n",
       "    </tr>\n",
       "    <tr>\n",
       "      <th>4</th>\n",
       "      <td>0.106383</td>\n",
       "      <td>1</td>\n",
       "      <td>0.525424</td>\n",
       "      <td>0.655172</td>\n",
       "      <td>0.5</td>\n",
       "      <td>0.266667</td>\n",
       "      <td>1</td>\n",
       "      <td>0.574444</td>\n",
       "      <td>0.655172</td>\n",
       "      <td>1.0</td>\n",
       "      <td>False</td>\n",
       "      <td>False</td>\n",
       "    </tr>\n",
       "  </tbody>\n",
       "</table>\n",
       "</div>"
      ],
      "text/plain": [
       "        Age  Gender    Tenure  Usage Frequency  Support Calls  Payment Delay  \\\n",
       "0  0.255319       0  0.644068         0.448276            0.5       0.600000   \n",
       "1  1.000000       0  0.813559         0.000000            1.0       0.266667   \n",
       "2  0.787234       0  0.220339         0.103448            0.6       0.600000   \n",
       "3  0.851064       1  0.627119         0.689655            0.7       0.233333   \n",
       "4  0.106383       1  0.525424         0.655172            0.5       0.266667   \n",
       "\n",
       "   Contract Length  Total Spend  Last Interaction  Churn  \\\n",
       "0                0     0.924444          0.551724    1.0   \n",
       "1                1     0.507778          0.172414    1.0   \n",
       "2                2     0.094444          0.068966    1.0   \n",
       "3                1     0.328889          0.965517    1.0   \n",
       "4                1     0.574444          0.655172    1.0   \n",
       "\n",
       "   Subscription Type_Premium  Subscription Type_Standard  \n",
       "0                      False                        True  \n",
       "1                      False                       False  \n",
       "2                      False                       False  \n",
       "3                      False                        True  \n",
       "4                      False                       False  "
      ]
     },
     "execution_count": 37,
     "metadata": {},
     "output_type": "execute_result"
    }
   ],
   "source": [
    "from sklearn.preprocessing import MinMaxScaler\n",
    "\n",
    "df_scaled = data_encoded\n",
    "\n",
    "scaler = MinMaxScaler()\n",
    "\n",
    "df_scaled[numerical_cols] = scaler.fit_transform(df_scaled[numerical_cols])\n",
    "\n",
    "df_scaled.head()\n"
   ]
  },
  {
   "cell_type": "markdown",
   "id": "0f2290ed",
   "metadata": {},
   "source": [
    "##  Ensemble Learning - Voting Classifier\n",
    "\n",
    "### why?\n",
    "Ensemble models combine multiple algorithms to improve performance and reduce overfitting. Here, we use a `VotingClassifier` that blends Logistic Regression, Random Forest, and Gradient Boosting.\n",
    "\n",
    "###  Why Voting Classifier?\n",
    "- Combines strengths of different classifiers.\n",
    "- Soft voting averages class probabilities for better stability.\n",
    "- Works well for imbalanced or complex datasets like churn prediction.\n",
    "\n",
    "---\n",
    "\n",
    "### Models Used:\n",
    "- `LogisticRegression`: Linear baseline classifier.\n",
    "- `RandomForestClassifier`: Tree-based ensemble with low variance.\n",
    "- `GradientBoostingClassifier`: Boosting method that reduces bias."
   ]
  },
  {
   "cell_type": "code",
   "execution_count": 41,
   "id": "f57aa76e",
   "metadata": {},
   "outputs": [],
   "source": [
    "from sklearn.model_selection import train_test_split\n",
    "\n",
    "X = df_scaled.drop(\"Churn\", axis=1)\n",
    "y = df_scaled[\"Churn\"]\n",
    "joblib.dump(df_scaled, \"scaler.pkl\")\n",
    "X_train, X_test, y_train, y_test = train_test_split(X, y, test_size=0.2, random_state=42)\n"
   ]
  },
  {
   "cell_type": "code",
   "execution_count": 42,
   "id": "3dbafbbf",
   "metadata": {},
   "outputs": [
    {
     "data": {
      "text/html": [
       "<style>#sk-container-id-1 {\n",
       "  /* Definition of color scheme common for light and dark mode */\n",
       "  --sklearn-color-text: #000;\n",
       "  --sklearn-color-text-muted: #666;\n",
       "  --sklearn-color-line: gray;\n",
       "  /* Definition of color scheme for unfitted estimators */\n",
       "  --sklearn-color-unfitted-level-0: #fff5e6;\n",
       "  --sklearn-color-unfitted-level-1: #f6e4d2;\n",
       "  --sklearn-color-unfitted-level-2: #ffe0b3;\n",
       "  --sklearn-color-unfitted-level-3: chocolate;\n",
       "  /* Definition of color scheme for fitted estimators */\n",
       "  --sklearn-color-fitted-level-0: #f0f8ff;\n",
       "  --sklearn-color-fitted-level-1: #d4ebff;\n",
       "  --sklearn-color-fitted-level-2: #b3dbfd;\n",
       "  --sklearn-color-fitted-level-3: cornflowerblue;\n",
       "\n",
       "  /* Specific color for light theme */\n",
       "  --sklearn-color-text-on-default-background: var(--sg-text-color, var(--theme-code-foreground, var(--jp-content-font-color1, black)));\n",
       "  --sklearn-color-background: var(--sg-background-color, var(--theme-background, var(--jp-layout-color0, white)));\n",
       "  --sklearn-color-border-box: var(--sg-text-color, var(--theme-code-foreground, var(--jp-content-font-color1, black)));\n",
       "  --sklearn-color-icon: #696969;\n",
       "\n",
       "  @media (prefers-color-scheme: dark) {\n",
       "    /* Redefinition of color scheme for dark theme */\n",
       "    --sklearn-color-text-on-default-background: var(--sg-text-color, var(--theme-code-foreground, var(--jp-content-font-color1, white)));\n",
       "    --sklearn-color-background: var(--sg-background-color, var(--theme-background, var(--jp-layout-color0, #111)));\n",
       "    --sklearn-color-border-box: var(--sg-text-color, var(--theme-code-foreground, var(--jp-content-font-color1, white)));\n",
       "    --sklearn-color-icon: #878787;\n",
       "  }\n",
       "}\n",
       "\n",
       "#sk-container-id-1 {\n",
       "  color: var(--sklearn-color-text);\n",
       "}\n",
       "\n",
       "#sk-container-id-1 pre {\n",
       "  padding: 0;\n",
       "}\n",
       "\n",
       "#sk-container-id-1 input.sk-hidden--visually {\n",
       "  border: 0;\n",
       "  clip: rect(1px 1px 1px 1px);\n",
       "  clip: rect(1px, 1px, 1px, 1px);\n",
       "  height: 1px;\n",
       "  margin: -1px;\n",
       "  overflow: hidden;\n",
       "  padding: 0;\n",
       "  position: absolute;\n",
       "  width: 1px;\n",
       "}\n",
       "\n",
       "#sk-container-id-1 div.sk-dashed-wrapped {\n",
       "  border: 1px dashed var(--sklearn-color-line);\n",
       "  margin: 0 0.4em 0.5em 0.4em;\n",
       "  box-sizing: border-box;\n",
       "  padding-bottom: 0.4em;\n",
       "  background-color: var(--sklearn-color-background);\n",
       "}\n",
       "\n",
       "#sk-container-id-1 div.sk-container {\n",
       "  /* jupyter's `normalize.less` sets `[hidden] { display: none; }`\n",
       "     but bootstrap.min.css set `[hidden] { display: none !important; }`\n",
       "     so we also need the `!important` here to be able to override the\n",
       "     default hidden behavior on the sphinx rendered scikit-learn.org.\n",
       "     See: https://github.com/scikit-learn/scikit-learn/issues/21755 */\n",
       "  display: inline-block !important;\n",
       "  position: relative;\n",
       "}\n",
       "\n",
       "#sk-container-id-1 div.sk-text-repr-fallback {\n",
       "  display: none;\n",
       "}\n",
       "\n",
       "div.sk-parallel-item,\n",
       "div.sk-serial,\n",
       "div.sk-item {\n",
       "  /* draw centered vertical line to link estimators */\n",
       "  background-image: linear-gradient(var(--sklearn-color-text-on-default-background), var(--sklearn-color-text-on-default-background));\n",
       "  background-size: 2px 100%;\n",
       "  background-repeat: no-repeat;\n",
       "  background-position: center center;\n",
       "}\n",
       "\n",
       "/* Parallel-specific style estimator block */\n",
       "\n",
       "#sk-container-id-1 div.sk-parallel-item::after {\n",
       "  content: \"\";\n",
       "  width: 100%;\n",
       "  border-bottom: 2px solid var(--sklearn-color-text-on-default-background);\n",
       "  flex-grow: 1;\n",
       "}\n",
       "\n",
       "#sk-container-id-1 div.sk-parallel {\n",
       "  display: flex;\n",
       "  align-items: stretch;\n",
       "  justify-content: center;\n",
       "  background-color: var(--sklearn-color-background);\n",
       "  position: relative;\n",
       "}\n",
       "\n",
       "#sk-container-id-1 div.sk-parallel-item {\n",
       "  display: flex;\n",
       "  flex-direction: column;\n",
       "}\n",
       "\n",
       "#sk-container-id-1 div.sk-parallel-item:first-child::after {\n",
       "  align-self: flex-end;\n",
       "  width: 50%;\n",
       "}\n",
       "\n",
       "#sk-container-id-1 div.sk-parallel-item:last-child::after {\n",
       "  align-self: flex-start;\n",
       "  width: 50%;\n",
       "}\n",
       "\n",
       "#sk-container-id-1 div.sk-parallel-item:only-child::after {\n",
       "  width: 0;\n",
       "}\n",
       "\n",
       "/* Serial-specific style estimator block */\n",
       "\n",
       "#sk-container-id-1 div.sk-serial {\n",
       "  display: flex;\n",
       "  flex-direction: column;\n",
       "  align-items: center;\n",
       "  background-color: var(--sklearn-color-background);\n",
       "  padding-right: 1em;\n",
       "  padding-left: 1em;\n",
       "}\n",
       "\n",
       "\n",
       "/* Toggleable style: style used for estimator/Pipeline/ColumnTransformer box that is\n",
       "clickable and can be expanded/collapsed.\n",
       "- Pipeline and ColumnTransformer use this feature and define the default style\n",
       "- Estimators will overwrite some part of the style using the `sk-estimator` class\n",
       "*/\n",
       "\n",
       "/* Pipeline and ColumnTransformer style (default) */\n",
       "\n",
       "#sk-container-id-1 div.sk-toggleable {\n",
       "  /* Default theme specific background. It is overwritten whether we have a\n",
       "  specific estimator or a Pipeline/ColumnTransformer */\n",
       "  background-color: var(--sklearn-color-background);\n",
       "}\n",
       "\n",
       "/* Toggleable label */\n",
       "#sk-container-id-1 label.sk-toggleable__label {\n",
       "  cursor: pointer;\n",
       "  display: flex;\n",
       "  width: 100%;\n",
       "  margin-bottom: 0;\n",
       "  padding: 0.5em;\n",
       "  box-sizing: border-box;\n",
       "  text-align: center;\n",
       "  align-items: start;\n",
       "  justify-content: space-between;\n",
       "  gap: 0.5em;\n",
       "}\n",
       "\n",
       "#sk-container-id-1 label.sk-toggleable__label .caption {\n",
       "  font-size: 0.6rem;\n",
       "  font-weight: lighter;\n",
       "  color: var(--sklearn-color-text-muted);\n",
       "}\n",
       "\n",
       "#sk-container-id-1 label.sk-toggleable__label-arrow:before {\n",
       "  /* Arrow on the left of the label */\n",
       "  content: \"▸\";\n",
       "  float: left;\n",
       "  margin-right: 0.25em;\n",
       "  color: var(--sklearn-color-icon);\n",
       "}\n",
       "\n",
       "#sk-container-id-1 label.sk-toggleable__label-arrow:hover:before {\n",
       "  color: var(--sklearn-color-text);\n",
       "}\n",
       "\n",
       "/* Toggleable content - dropdown */\n",
       "\n",
       "#sk-container-id-1 div.sk-toggleable__content {\n",
       "  max-height: 0;\n",
       "  max-width: 0;\n",
       "  overflow: hidden;\n",
       "  text-align: left;\n",
       "  /* unfitted */\n",
       "  background-color: var(--sklearn-color-unfitted-level-0);\n",
       "}\n",
       "\n",
       "#sk-container-id-1 div.sk-toggleable__content.fitted {\n",
       "  /* fitted */\n",
       "  background-color: var(--sklearn-color-fitted-level-0);\n",
       "}\n",
       "\n",
       "#sk-container-id-1 div.sk-toggleable__content pre {\n",
       "  margin: 0.2em;\n",
       "  border-radius: 0.25em;\n",
       "  color: var(--sklearn-color-text);\n",
       "  /* unfitted */\n",
       "  background-color: var(--sklearn-color-unfitted-level-0);\n",
       "}\n",
       "\n",
       "#sk-container-id-1 div.sk-toggleable__content.fitted pre {\n",
       "  /* unfitted */\n",
       "  background-color: var(--sklearn-color-fitted-level-0);\n",
       "}\n",
       "\n",
       "#sk-container-id-1 input.sk-toggleable__control:checked~div.sk-toggleable__content {\n",
       "  /* Expand drop-down */\n",
       "  max-height: 200px;\n",
       "  max-width: 100%;\n",
       "  overflow: auto;\n",
       "}\n",
       "\n",
       "#sk-container-id-1 input.sk-toggleable__control:checked~label.sk-toggleable__label-arrow:before {\n",
       "  content: \"▾\";\n",
       "}\n",
       "\n",
       "/* Pipeline/ColumnTransformer-specific style */\n",
       "\n",
       "#sk-container-id-1 div.sk-label input.sk-toggleable__control:checked~label.sk-toggleable__label {\n",
       "  color: var(--sklearn-color-text);\n",
       "  background-color: var(--sklearn-color-unfitted-level-2);\n",
       "}\n",
       "\n",
       "#sk-container-id-1 div.sk-label.fitted input.sk-toggleable__control:checked~label.sk-toggleable__label {\n",
       "  background-color: var(--sklearn-color-fitted-level-2);\n",
       "}\n",
       "\n",
       "/* Estimator-specific style */\n",
       "\n",
       "/* Colorize estimator box */\n",
       "#sk-container-id-1 div.sk-estimator input.sk-toggleable__control:checked~label.sk-toggleable__label {\n",
       "  /* unfitted */\n",
       "  background-color: var(--sklearn-color-unfitted-level-2);\n",
       "}\n",
       "\n",
       "#sk-container-id-1 div.sk-estimator.fitted input.sk-toggleable__control:checked~label.sk-toggleable__label {\n",
       "  /* fitted */\n",
       "  background-color: var(--sklearn-color-fitted-level-2);\n",
       "}\n",
       "\n",
       "#sk-container-id-1 div.sk-label label.sk-toggleable__label,\n",
       "#sk-container-id-1 div.sk-label label {\n",
       "  /* The background is the default theme color */\n",
       "  color: var(--sklearn-color-text-on-default-background);\n",
       "}\n",
       "\n",
       "/* On hover, darken the color of the background */\n",
       "#sk-container-id-1 div.sk-label:hover label.sk-toggleable__label {\n",
       "  color: var(--sklearn-color-text);\n",
       "  background-color: var(--sklearn-color-unfitted-level-2);\n",
       "}\n",
       "\n",
       "/* Label box, darken color on hover, fitted */\n",
       "#sk-container-id-1 div.sk-label.fitted:hover label.sk-toggleable__label.fitted {\n",
       "  color: var(--sklearn-color-text);\n",
       "  background-color: var(--sklearn-color-fitted-level-2);\n",
       "}\n",
       "\n",
       "/* Estimator label */\n",
       "\n",
       "#sk-container-id-1 div.sk-label label {\n",
       "  font-family: monospace;\n",
       "  font-weight: bold;\n",
       "  display: inline-block;\n",
       "  line-height: 1.2em;\n",
       "}\n",
       "\n",
       "#sk-container-id-1 div.sk-label-container {\n",
       "  text-align: center;\n",
       "}\n",
       "\n",
       "/* Estimator-specific */\n",
       "#sk-container-id-1 div.sk-estimator {\n",
       "  font-family: monospace;\n",
       "  border: 1px dotted var(--sklearn-color-border-box);\n",
       "  border-radius: 0.25em;\n",
       "  box-sizing: border-box;\n",
       "  margin-bottom: 0.5em;\n",
       "  /* unfitted */\n",
       "  background-color: var(--sklearn-color-unfitted-level-0);\n",
       "}\n",
       "\n",
       "#sk-container-id-1 div.sk-estimator.fitted {\n",
       "  /* fitted */\n",
       "  background-color: var(--sklearn-color-fitted-level-0);\n",
       "}\n",
       "\n",
       "/* on hover */\n",
       "#sk-container-id-1 div.sk-estimator:hover {\n",
       "  /* unfitted */\n",
       "  background-color: var(--sklearn-color-unfitted-level-2);\n",
       "}\n",
       "\n",
       "#sk-container-id-1 div.sk-estimator.fitted:hover {\n",
       "  /* fitted */\n",
       "  background-color: var(--sklearn-color-fitted-level-2);\n",
       "}\n",
       "\n",
       "/* Specification for estimator info (e.g. \"i\" and \"?\") */\n",
       "\n",
       "/* Common style for \"i\" and \"?\" */\n",
       "\n",
       ".sk-estimator-doc-link,\n",
       "a:link.sk-estimator-doc-link,\n",
       "a:visited.sk-estimator-doc-link {\n",
       "  float: right;\n",
       "  font-size: smaller;\n",
       "  line-height: 1em;\n",
       "  font-family: monospace;\n",
       "  background-color: var(--sklearn-color-background);\n",
       "  border-radius: 1em;\n",
       "  height: 1em;\n",
       "  width: 1em;\n",
       "  text-decoration: none !important;\n",
       "  margin-left: 0.5em;\n",
       "  text-align: center;\n",
       "  /* unfitted */\n",
       "  border: var(--sklearn-color-unfitted-level-1) 1pt solid;\n",
       "  color: var(--sklearn-color-unfitted-level-1);\n",
       "}\n",
       "\n",
       ".sk-estimator-doc-link.fitted,\n",
       "a:link.sk-estimator-doc-link.fitted,\n",
       "a:visited.sk-estimator-doc-link.fitted {\n",
       "  /* fitted */\n",
       "  border: var(--sklearn-color-fitted-level-1) 1pt solid;\n",
       "  color: var(--sklearn-color-fitted-level-1);\n",
       "}\n",
       "\n",
       "/* On hover */\n",
       "div.sk-estimator:hover .sk-estimator-doc-link:hover,\n",
       ".sk-estimator-doc-link:hover,\n",
       "div.sk-label-container:hover .sk-estimator-doc-link:hover,\n",
       ".sk-estimator-doc-link:hover {\n",
       "  /* unfitted */\n",
       "  background-color: var(--sklearn-color-unfitted-level-3);\n",
       "  color: var(--sklearn-color-background);\n",
       "  text-decoration: none;\n",
       "}\n",
       "\n",
       "div.sk-estimator.fitted:hover .sk-estimator-doc-link.fitted:hover,\n",
       ".sk-estimator-doc-link.fitted:hover,\n",
       "div.sk-label-container:hover .sk-estimator-doc-link.fitted:hover,\n",
       ".sk-estimator-doc-link.fitted:hover {\n",
       "  /* fitted */\n",
       "  background-color: var(--sklearn-color-fitted-level-3);\n",
       "  color: var(--sklearn-color-background);\n",
       "  text-decoration: none;\n",
       "}\n",
       "\n",
       "/* Span, style for the box shown on hovering the info icon */\n",
       ".sk-estimator-doc-link span {\n",
       "  display: none;\n",
       "  z-index: 9999;\n",
       "  position: relative;\n",
       "  font-weight: normal;\n",
       "  right: .2ex;\n",
       "  padding: .5ex;\n",
       "  margin: .5ex;\n",
       "  width: min-content;\n",
       "  min-width: 20ex;\n",
       "  max-width: 50ex;\n",
       "  color: var(--sklearn-color-text);\n",
       "  box-shadow: 2pt 2pt 4pt #999;\n",
       "  /* unfitted */\n",
       "  background: var(--sklearn-color-unfitted-level-0);\n",
       "  border: .5pt solid var(--sklearn-color-unfitted-level-3);\n",
       "}\n",
       "\n",
       ".sk-estimator-doc-link.fitted span {\n",
       "  /* fitted */\n",
       "  background: var(--sklearn-color-fitted-level-0);\n",
       "  border: var(--sklearn-color-fitted-level-3);\n",
       "}\n",
       "\n",
       ".sk-estimator-doc-link:hover span {\n",
       "  display: block;\n",
       "}\n",
       "\n",
       "/* \"?\"-specific style due to the `<a>` HTML tag */\n",
       "\n",
       "#sk-container-id-1 a.estimator_doc_link {\n",
       "  float: right;\n",
       "  font-size: 1rem;\n",
       "  line-height: 1em;\n",
       "  font-family: monospace;\n",
       "  background-color: var(--sklearn-color-background);\n",
       "  border-radius: 1rem;\n",
       "  height: 1rem;\n",
       "  width: 1rem;\n",
       "  text-decoration: none;\n",
       "  /* unfitted */\n",
       "  color: var(--sklearn-color-unfitted-level-1);\n",
       "  border: var(--sklearn-color-unfitted-level-1) 1pt solid;\n",
       "}\n",
       "\n",
       "#sk-container-id-1 a.estimator_doc_link.fitted {\n",
       "  /* fitted */\n",
       "  border: var(--sklearn-color-fitted-level-1) 1pt solid;\n",
       "  color: var(--sklearn-color-fitted-level-1);\n",
       "}\n",
       "\n",
       "/* On hover */\n",
       "#sk-container-id-1 a.estimator_doc_link:hover {\n",
       "  /* unfitted */\n",
       "  background-color: var(--sklearn-color-unfitted-level-3);\n",
       "  color: var(--sklearn-color-background);\n",
       "  text-decoration: none;\n",
       "}\n",
       "\n",
       "#sk-container-id-1 a.estimator_doc_link.fitted:hover {\n",
       "  /* fitted */\n",
       "  background-color: var(--sklearn-color-fitted-level-3);\n",
       "}\n",
       "</style><div id=\"sk-container-id-1\" class=\"sk-top-container\"><div class=\"sk-text-repr-fallback\"><pre>VotingClassifier(estimators=[(&#x27;Random Forest&#x27;,\n",
       "                              RandomForestClassifier(random_state=42)),\n",
       "                             (&#x27;Gradient Boosting&#x27;,\n",
       "                              GradientBoostingClassifier(random_state=42)),\n",
       "                             (&#x27;Logistic Regression&#x27;,\n",
       "                              LogisticRegression(max_iter=1000))],\n",
       "                 voting=&#x27;soft&#x27;)</pre><b>In a Jupyter environment, please rerun this cell to show the HTML representation or trust the notebook. <br />On GitHub, the HTML representation is unable to render, please try loading this page with nbviewer.org.</b></div><div class=\"sk-container\" hidden><div class=\"sk-item sk-dashed-wrapped\"><div class=\"sk-label-container\"><div class=\"sk-label fitted sk-toggleable\"><input class=\"sk-toggleable__control sk-hidden--visually\" id=\"sk-estimator-id-1\" type=\"checkbox\" ><label for=\"sk-estimator-id-1\" class=\"sk-toggleable__label fitted sk-toggleable__label-arrow\"><div><div>VotingClassifier</div></div><div><a class=\"sk-estimator-doc-link fitted\" rel=\"noreferrer\" target=\"_blank\" href=\"https://scikit-learn.org/1.6/modules/generated/sklearn.ensemble.VotingClassifier.html\">?<span>Documentation for VotingClassifier</span></a><span class=\"sk-estimator-doc-link fitted\">i<span>Fitted</span></span></div></label><div class=\"sk-toggleable__content fitted\"><pre>VotingClassifier(estimators=[(&#x27;Random Forest&#x27;,\n",
       "                              RandomForestClassifier(random_state=42)),\n",
       "                             (&#x27;Gradient Boosting&#x27;,\n",
       "                              GradientBoostingClassifier(random_state=42)),\n",
       "                             (&#x27;Logistic Regression&#x27;,\n",
       "                              LogisticRegression(max_iter=1000))],\n",
       "                 voting=&#x27;soft&#x27;)</pre></div> </div></div><div class=\"sk-parallel\"><div class=\"sk-parallel-item\"><div class=\"sk-item\"><div class=\"sk-label-container\"><div class=\"sk-label fitted sk-toggleable\"><label>Random Forest</label></div></div><div class=\"sk-serial\"><div class=\"sk-item\"><div class=\"sk-estimator fitted sk-toggleable\"><input class=\"sk-toggleable__control sk-hidden--visually\" id=\"sk-estimator-id-2\" type=\"checkbox\" ><label for=\"sk-estimator-id-2\" class=\"sk-toggleable__label fitted sk-toggleable__label-arrow\"><div><div>RandomForestClassifier</div></div><div><a class=\"sk-estimator-doc-link fitted\" rel=\"noreferrer\" target=\"_blank\" href=\"https://scikit-learn.org/1.6/modules/generated/sklearn.ensemble.RandomForestClassifier.html\">?<span>Documentation for RandomForestClassifier</span></a></div></label><div class=\"sk-toggleable__content fitted\"><pre>RandomForestClassifier(random_state=42)</pre></div> </div></div></div></div></div><div class=\"sk-parallel-item\"><div class=\"sk-item\"><div class=\"sk-label-container\"><div class=\"sk-label fitted sk-toggleable\"><label>Gradient Boosting</label></div></div><div class=\"sk-serial\"><div class=\"sk-item\"><div class=\"sk-estimator fitted sk-toggleable\"><input class=\"sk-toggleable__control sk-hidden--visually\" id=\"sk-estimator-id-3\" type=\"checkbox\" ><label for=\"sk-estimator-id-3\" class=\"sk-toggleable__label fitted sk-toggleable__label-arrow\"><div><div>GradientBoostingClassifier</div></div><div><a class=\"sk-estimator-doc-link fitted\" rel=\"noreferrer\" target=\"_blank\" href=\"https://scikit-learn.org/1.6/modules/generated/sklearn.ensemble.GradientBoostingClassifier.html\">?<span>Documentation for GradientBoostingClassifier</span></a></div></label><div class=\"sk-toggleable__content fitted\"><pre>GradientBoostingClassifier(random_state=42)</pre></div> </div></div></div></div></div><div class=\"sk-parallel-item\"><div class=\"sk-item\"><div class=\"sk-label-container\"><div class=\"sk-label fitted sk-toggleable\"><label>Logistic Regression</label></div></div><div class=\"sk-serial\"><div class=\"sk-item\"><div class=\"sk-estimator fitted sk-toggleable\"><input class=\"sk-toggleable__control sk-hidden--visually\" id=\"sk-estimator-id-4\" type=\"checkbox\" ><label for=\"sk-estimator-id-4\" class=\"sk-toggleable__label fitted sk-toggleable__label-arrow\"><div><div>LogisticRegression</div></div><div><a class=\"sk-estimator-doc-link fitted\" rel=\"noreferrer\" target=\"_blank\" href=\"https://scikit-learn.org/1.6/modules/generated/sklearn.linear_model.LogisticRegression.html\">?<span>Documentation for LogisticRegression</span></a></div></label><div class=\"sk-toggleable__content fitted\"><pre>LogisticRegression(max_iter=1000)</pre></div> </div></div></div></div></div></div></div></div></div>"
      ],
      "text/plain": [
       "VotingClassifier(estimators=[('Random Forest',\n",
       "                              RandomForestClassifier(random_state=42)),\n",
       "                             ('Gradient Boosting',\n",
       "                              GradientBoostingClassifier(random_state=42)),\n",
       "                             ('Logistic Regression',\n",
       "                              LogisticRegression(max_iter=1000))],\n",
       "                 voting='soft')"
      ]
     },
     "execution_count": 42,
     "metadata": {},
     "output_type": "execute_result"
    }
   ],
   "source": [
    "from sklearn.ensemble import RandomForestClassifier, GradientBoostingClassifier, VotingClassifier\n",
    "from sklearn.linear_model import LogisticRegression\n",
    "\n",
    "rf_model = RandomForestClassifier(random_state=42)\n",
    "gb_model = GradientBoostingClassifier(random_state=42)\n",
    "lr_model = LogisticRegression(max_iter=1000)\n",
    "\n",
    "\n",
    "rf_model.fit(X_train, y_train)\n",
    "gb_model.fit(X_train, y_train)\n",
    "lr_model.fit(X_train, y_train)\n",
    "\n",
    "ensemble_model = VotingClassifier(\n",
    "    estimators=[\n",
    "        ('Random Forest', rf_model),\n",
    "        ('Gradient Boosting', gb_model),\n",
    "        ('Logistic Regression', lr_model)\n",
    "    ],\n",
    "    voting='soft' \n",
    ")\n",
    "ensemble_model.fit(X_train, y_train)\n",
    "\n"
   ]
  },
  {
   "cell_type": "code",
   "execution_count": 43,
   "id": "325cbb45",
   "metadata": {},
   "outputs": [
    {
     "name": "stdout",
     "output_type": "stream",
     "text": [
      "📌 Model: Random Forest\n",
      "🎯 Accuracy: 0.9343342372478771\n",
      "🔵 ROC AUC Score: 0.9521402084682804\n",
      "📄 Classification Report:\n",
      "              precision    recall  f1-score   support\n",
      "\n",
      "         0.0       1.00      0.86      0.92     44981\n",
      "         1.0       0.90      1.00      0.94     56061\n",
      "\n",
      "    accuracy                           0.93    101042\n",
      "   macro avg       0.95      0.93      0.93    101042\n",
      "weighted avg       0.94      0.93      0.93    101042\n",
      "\n",
      "============================================================\n",
      "📌 Model: Gradient Boosting\n",
      "🎯 Accuracy: 0.9107103976564201\n",
      "🔵 ROC AUC Score: 0.9491132746458752\n",
      "📄 Classification Report:\n",
      "              precision    recall  f1-score   support\n",
      "\n",
      "         0.0       0.93      0.86      0.90     44981\n",
      "         1.0       0.90      0.95      0.92     56061\n",
      "\n",
      "    accuracy                           0.91    101042\n",
      "   macro avg       0.91      0.91      0.91    101042\n",
      "weighted avg       0.91      0.91      0.91    101042\n",
      "\n",
      "============================================================\n",
      "📌 Model: Logistic Regression\n",
      "🎯 Accuracy: 0.8187981235525821\n",
      "🔵 ROC AUC Score: 0.8855538501328726\n",
      "📄 Classification Report:\n",
      "              precision    recall  f1-score   support\n",
      "\n",
      "         0.0       0.79      0.81      0.80     44981\n",
      "         1.0       0.85      0.82      0.83     56061\n",
      "\n",
      "    accuracy                           0.82    101042\n",
      "   macro avg       0.82      0.82      0.82    101042\n",
      "weighted avg       0.82      0.82      0.82    101042\n",
      "\n",
      "============================================================\n",
      "📌 Model: Voting Ensemble\n",
      "🎯 Accuracy: 0.9192415035331842\n",
      "🔵 ROC AUC Score: 0.9499617283096645\n",
      "📄 Classification Report:\n",
      "              precision    recall  f1-score   support\n",
      "\n",
      "         0.0       0.95      0.86      0.90     44981\n",
      "         1.0       0.90      0.97      0.93     56061\n",
      "\n",
      "    accuracy                           0.92    101042\n",
      "   macro avg       0.92      0.91      0.92    101042\n",
      "weighted avg       0.92      0.92      0.92    101042\n",
      "\n",
      "============================================================\n"
     ]
    }
   ],
   "source": [
    "from sklearn.metrics import accuracy_score, classification_report, confusion_matrix, roc_auc_score\n",
    "\n",
    "models = {\n",
    "    \"Random Forest\": rf_model,\n",
    "    \"Gradient Boosting\": gb_model,\n",
    "    \"Logistic Regression\": lr_model,\n",
    "    \"Voting Ensemble\": ensemble_model\n",
    "}\n",
    "\n",
    "for name, model in models.items():\n",
    "    y_pred = model.predict(X_test)\n",
    "\n",
    "    if hasattr(model, \"predict_proba\"):\n",
    "        y_proba = model.predict_proba(X_test)[:, 1]\n",
    "        roc_auc = roc_auc_score(y_test, y_proba)\n",
    "    else:\n",
    "        roc_auc = \"N/A\"\n",
    "\n",
    "    accuracy = accuracy_score(y_test, y_pred)\n",
    "\n",
    "    print(f\"📌 Model: {name}\")\n",
    "    print(f\"🎯 Accuracy: {accuracy}\")\n",
    "    print(f\"🔵 ROC AUC Score: {roc_auc}\")\n",
    "    print(\"📄 Classification Report:\")\n",
    "    print(classification_report(y_test, y_pred))\n",
    "    print(\"=\" * 60)\n"
   ]
  },
  {
   "cell_type": "markdown",
   "id": "66f3d84f",
   "metadata": {},
   "source": [
    "---"
   ]
  },
  {
   "cell_type": "markdown",
   "id": "16dc5ff0",
   "metadata": {},
   "source": [
    "#  Model Comparison and Selection Report\n",
    "\n",
    "This report compares the performance of four machine learning models for predicting customer churn. Evaluation was based on Accuracy, ROC AUC Score, and detailed classification reports.\n",
    "\n",
    "---\n",
    "##  Model Performance Summary\n",
    "\n",
    "| Model               | Accuracy       | ROC AUC Score  |\n",
    "|--------------------|----------------|----------------|\n",
    "|  **Random Forest**     | **0.9343**       | **0.9521**       |\n",
    "| Gradient Boosting   | 0.9107         | 0.9491         |\n",
    "| Logistic Regression | 0.8188         | 0.8855         |\n",
    "| Voting Ensemble     | 0.9192         | 0.9500         |\n",
    "\n",
    "---\n",
    "\n",
    "## the best model is random forest\n"
   ]
  },
  {
   "cell_type": "code",
   "execution_count": 44,
   "id": "e251f383",
   "metadata": {},
   "outputs": [
    {
     "data": {
      "text/plain": [
       "['best_model_random_forest.pkl']"
      ]
     },
     "execution_count": 44,
     "metadata": {},
     "output_type": "execute_result"
    }
   ],
   "source": [
    "import joblib\n",
    "joblib.dump(rf_model, \"best_model_random_forest.pkl\")\n",
    "\n"
   ]
  },
  {
   "cell_type": "code",
   "execution_count": null,
   "id": "887e4290",
   "metadata": {},
   "outputs": [],
   "source": []
  }
 ],
 "metadata": {
  "kernelspec": {
   "display_name": "Python 3",
   "language": "python",
   "name": "python3"
  },
  "language_info": {
   "codemirror_mode": {
    "name": "ipython",
    "version": 3
   },
   "file_extension": ".py",
   "mimetype": "text/x-python",
   "name": "python",
   "nbconvert_exporter": "python",
   "pygments_lexer": "ipython3",
   "version": "3.9.8"
  }
 },
 "nbformat": 4,
 "nbformat_minor": 5
}
